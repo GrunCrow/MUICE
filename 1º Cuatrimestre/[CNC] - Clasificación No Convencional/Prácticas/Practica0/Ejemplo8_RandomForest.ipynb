{
 "cells": [
  {
   "cell_type": "markdown",
   "metadata": {
    "id": "qv-veJbd2f_c"
   },
   "source": [
    "# Ejemplo de aplicación de Random Forest.\n",
    "Para aplicarlo se va a usar el dataset mnist con una clasificación multiclase."
   ]
  },
  {
   "cell_type": "code",
   "execution_count": 1,
   "metadata": {
    "executionInfo": {
     "elapsed": 4120,
     "status": "ok",
     "timestamp": 1670521954587,
     "user": {
      "displayName": "Ángel Carmona",
      "userId": "03357454738723575825"
     },
     "user_tz": -60
    },
    "id": "9Mlfbv872eQn"
   },
   "outputs": [],
   "source": [
    "from sklearn.preprocessing import StandardScaler\n",
    "from sklearn.pipeline import make_pipeline\n",
    "from sklearn.ensemble import RandomForestClassifier\n",
    "randomF_clf = make_pipeline(StandardScaler(),RandomForestClassifier(criterion = \"entropy\", n_estimators=500, max_leaf_nodes=64, random_state=42))\n",
    "#criterion{“gini”, “entropy”, “log_loss”}, default=”gini”\n",
    "#n_estimators: (default=100). Número de árboles en el bosque.\n",
    "#max_depth: por defecto ninguno (en cuyo caso se extiende hasta que todas sean puras o \n",
    "            #no se supere el mínimo número de muestras para dividir)\n",
    "#max_features: {“sqrt”, “log2”, None}, int or float, default=”sqrt”\n",
    "            #El número de características a considerar al buscar la mejor división:\n",
    "            #If int, then consider max_features features at each split.\n",
    "            #If float, then max_features is a fraction and max(1, int(max_features * n_features_in_)) features are considered at each split.\n",
    "            # If “auto”, then max_features=sqrt(n_features).\n",
    "            # If “sqrt”, then max_features=sqrt(n_features).\n",
    "            #If “log2”, then max_features=log2(n_features).\n",
    "            #If None, then max_features=n_features.\n",
    "#max_leaf_nodes: int, default=None. Máximo número de ndos hoja. Si se omite el número es ilimitado."
   ]
  },
  {
   "cell_type": "code",
   "execution_count": 2,
   "metadata": {
    "executionInfo": {
     "elapsed": 38916,
     "status": "ok",
     "timestamp": 1670521993496,
     "user": {
      "displayName": "Ángel Carmona",
      "userId": "03357454738723575825"
     },
     "user_tz": -60
    },
    "id": "Wcd1qzPlaNeE"
   },
   "outputs": [
    {
     "name": "stderr",
     "output_type": "stream",
     "text": [
      "/home/angel/ml/env/lib/python3.8/site-packages/sklearn/datasets/_openml.py:1002: FutureWarning: The default value of `parser` will change from `'liac-arff'` to `'auto'` in 1.4. You can set `parser='auto'` to silence this warning. Therefore, an `ImportError` will be raised from 1.4 if the dataset is dense and pandas is not installed. Note that the pandas parser may return different data types. See the Notes Section in fetch_openml's API doc for details.\n",
      "  warn(\n"
     ]
    }
   ],
   "source": [
    "from sklearn.datasets import fetch_openml\n",
    "mnist = fetch_openml('mnist_784', version=1, as_frame=False)\n",
    "X, y = mnist[\"data\"], mnist[\"target\"]"
   ]
  },
  {
   "cell_type": "code",
   "execution_count": 3,
   "metadata": {
    "executionInfo": {
     "elapsed": 359,
     "status": "ok",
     "timestamp": 1670521993835,
     "user": {
      "displayName": "Ángel Carmona",
      "userId": "03357454738723575825"
     },
     "user_tz": -60
    },
    "id": "io14RTVshLcE"
   },
   "outputs": [],
   "source": [
    "from sklearn.model_selection import train_test_split\n",
    "X_train, X_test, y_train, y_test = train_test_split(X, y, test_size=0.2)"
   ]
  },
  {
   "cell_type": "code",
   "execution_count": 4,
   "metadata": {
    "executionInfo": {
     "elapsed": 161154,
     "status": "ok",
     "timestamp": 1670522154985,
     "user": {
      "displayName": "Ángel Carmona",
      "userId": "03357454738723575825"
     },
     "user_tz": -60
    },
    "id": "mzWtrxp7fCDF"
   },
   "outputs": [],
   "source": [
    "randomF_clf.fit(X_train, y_train)\n",
    "y_pred_rf = randomF_clf.predict(X_test)"
   ]
  },
  {
   "cell_type": "code",
   "execution_count": 5,
   "metadata": {
    "colab": {
     "base_uri": "https://localhost:8080/"
    },
    "executionInfo": {
     "elapsed": 25,
     "status": "ok",
     "timestamp": 1670522154986,
     "user": {
      "displayName": "Ángel Carmona",
      "userId": "03357454738723575825"
     },
     "user_tz": -60
    },
    "id": "PXbf_KGNfyX_",
    "outputId": "d110cce2-25ff-48ad-ccdf-2a74101cb823"
   },
   "outputs": [
    {
     "data": {
      "text/plain": [
       "array([[1268,    1,    2,    1,    1,    3,   11,    0,   28,    0],\n",
       "       [   0, 1576,    7,    2,    3,    7,    3,    6,   13,    1],\n",
       "       [  17,    9, 1229,   18,   19,   10,   40,   30,   18,   10],\n",
       "       [   9,   13,   44, 1249,    3,   28,   11,   26,   39,   17],\n",
       "       [   6,    2,    3,    0, 1188,    3,   35,    8,   16,  102],\n",
       "       [  32,   25,    3,   86,   13, 1039,   32,    6,   22,   20],\n",
       "       [  19,    6,   18,    0,   11,   13, 1268,    0,    9,    0],\n",
       "       [   3,   23,   34,    0,   17,    1,    0, 1365,   11,   56],\n",
       "       [   5,   29,   16,   26,   12,   11,   23,    6, 1176,   46],\n",
       "       [   9,    9,    7,   23,   40,    4,    2,   43,   19, 1227]])"
      ]
     },
     "execution_count": 5,
     "metadata": {},
     "output_type": "execute_result"
    }
   ],
   "source": [
    "from sklearn.metrics import confusion_matrix\n",
    "from sklearn.metrics import ConfusionMatrixDisplay\n",
    "cm = confusion_matrix(y_test, y_pred_rf)\n",
    "cm"
   ]
  },
  {
   "cell_type": "code",
   "execution_count": 6,
   "metadata": {
    "colab": {
     "base_uri": "https://localhost:8080/",
     "height": 279
    },
    "executionInfo": {
     "elapsed": 556,
     "status": "ok",
     "timestamp": 1670522155537,
     "user": {
      "displayName": "Ángel Carmona",
      "userId": "03357454738723575825"
     },
     "user_tz": -60
    },
    "id": "0wnydt3JiWxk",
    "outputId": "21c5af8d-8cc0-4415-a071-5d3216d58b4a"
   },
   "outputs": [
    {
     "data": {
      "image/png": "[encoded data removed]",
      "text/plain": [
       "<Figure size 640x480 with 2 Axes>"
      ]
     },
     "metadata": {},
     "output_type": "display_data"
    }
   ],
   "source": [
    "cm_display = ConfusionMatrixDisplay(cm).plot()"
   ]
  },
  {
   "cell_type": "code",
   "execution_count": 7,
   "metadata": {
    "executionInfo": {
     "elapsed": 322,
     "status": "ok",
     "timestamp": 1670522186606,
     "user": {
      "displayName": "Ángel Carmona",
      "userId": "03357454738723575825"
     },
     "user_tz": -60
    },
    "id": "QktpINLO3GCZ"
   },
   "outputs": [],
   "source": [
    "import numpy as np\n",
    "TP = np.zeros(10)\n",
    "TN = np.zeros(10)\n",
    "FP = np.zeros(10)\n",
    "FN = np.zeros(10)"
   ]
  },
  {
   "cell_type": "code",
   "execution_count": 8,
   "metadata": {
    "executionInfo": {
     "elapsed": 217,
     "status": "ok",
     "timestamp": 1670522190105,
     "user": {
      "displayName": "Ángel Carmona",
      "userId": "03357454738723575825"
     },
     "user_tz": -60
    },
    "id": "trFKElVc3Htu"
   },
   "outputs": [],
   "source": [
    "for i in range(cm.shape[0]): #Recorremos las filas de la matriz de confusión\n",
    "  TP[i]=cm[i,i]; \n",
    "  FN[i]=sum(cm[i,:])-cm[i,i];  #sum(cm[i,:]) suma los elementos de la fila i\n",
    "  FP[i]=sum(cm[:,i])-cm[i,i];  #sum(cm[:,i]) suma los elementos de la columna i\n",
    "  SumaTotal = sum(sum(cm[:]))   #sum(cm[:]) Almacena en un array 1D la suma de cada fila. sum(sum(cm[:])) suma todos los elementos de la matriz\n",
    "  TN[i]=SumaTotal-TP[i]-FP[i]-FN[i]"
   ]
  },
  {
   "cell_type": "code",
   "execution_count": 9,
   "metadata": {
    "colab": {
     "base_uri": "https://localhost:8080/"
    },
    "executionInfo": {
     "elapsed": 4,
     "status": "ok",
     "timestamp": 1670522193342,
     "user": {
      "displayName": "Ángel Carmona",
      "userId": "03357454738723575825"
     },
     "user_tz": -60
    },
    "id": "fdWhckLL3Qiu",
    "outputId": "5e849a7a-9586-46bf-a20c-9751429ddb7b"
   },
   "outputs": [
    {
     "data": {
      "text/plain": [
       "(array([1268., 1576., 1229., 1249., 1188., 1039., 1268., 1365., 1176.,\n",
       "        1227.]),\n",
       " array([ 47.,  42., 171., 190., 175., 239.,  76., 145., 174., 156.]),\n",
       " array([100., 117., 134., 156., 119.,  80., 157., 125., 175., 252.]),\n",
       " array([12585., 12265., 12466., 12405., 12518., 12642., 12499., 12365.,\n",
       "        12475., 12365.]))"
      ]
     },
     "execution_count": 9,
     "metadata": {},
     "output_type": "execute_result"
    }
   ],
   "source": [
    "TP, FN, FP, TN"
   ]
  },
  {
   "cell_type": "code",
   "execution_count": 10,
   "metadata": {
    "colab": {
     "base_uri": "https://localhost:8080/"
    },
    "executionInfo": {
     "elapsed": 309,
     "status": "ok",
     "timestamp": 1670522195924,
     "user": {
      "displayName": "Ángel Carmona",
      "userId": "03357454738723575825"
     },
     "user_tz": -60
    },
    "id": "VdyAGhE_3U8j",
    "outputId": "64c5e869-4af8-444a-ccd5-9287167e9071"
   },
   "outputs": [
    {
     "data": {
      "text/plain": [
       "0.8989285714285714"
      ]
     },
     "execution_count": 10,
     "metadata": {},
     "output_type": "execute_result"
    }
   ],
   "source": [
    "#Accuracy global\n",
    "sum(TP)/SumaTotal"
   ]
  },
  {
   "cell_type": "code",
   "execution_count": 11,
   "metadata": {
    "colab": {
     "base_uri": "https://localhost:8080/"
    },
    "executionInfo": {
     "elapsed": 242,
     "status": "ok",
     "timestamp": 1670522198839,
     "user": {
      "displayName": "Ángel Carmona",
      "userId": "03357454738723575825"
     },
     "user_tz": -60
    },
    "id": "0Tgaa_mj3XnO",
    "outputId": "f43c7976-fd48-433c-a849-dad6b56ab7cc"
   },
   "outputs": [
    {
     "data": {
      "text/plain": [
       "array([0.92690058, 0.93089191, 0.90168745, 0.88896797, 0.9089518 ,\n",
       "       0.9285076 , 0.88982456, 0.91610738, 0.87046632, 0.8296146 ])"
      ]
     },
     "execution_count": 11,
     "metadata": {},
     "output_type": "execute_result"
    }
   ],
   "source": [
    "#Precision de cada clase\n",
    "TP/(FP+TP)"
   ]
  },
  {
   "cell_type": "code",
   "execution_count": 12,
   "metadata": {
    "colab": {
     "base_uri": "https://localhost:8080/"
    },
    "executionInfo": {
     "elapsed": 310,
     "status": "ok",
     "timestamp": 1670522202485,
     "user": {
      "displayName": "Ángel Carmona",
      "userId": "03357454738723575825"
     },
     "user_tz": -60
    },
    "id": "LDH9yFrq3bOr",
    "outputId": "13d6ea15-2636-4de8-daa2-2b1093097495"
   },
   "outputs": [
    {
     "data": {
      "text/plain": [
       "array([0.96425856, 0.97404203, 0.87785714, 0.86796386, 0.87160675,\n",
       "       0.81298905, 0.94345238, 0.90397351, 0.87111111, 0.88720174])"
      ]
     },
     "execution_count": 12,
     "metadata": {},
     "output_type": "execute_result"
    }
   ],
   "source": [
    "#Recall de cada clase\n",
    "TP/(FN+TP)"
   ]
  },
  {
   "cell_type": "markdown",
   "metadata": {
    "id": "r9PNwxzwkl2c"
   },
   "source": [
    "Vamos a repetirlo para un clasificador binario"
   ]
  },
  {
   "cell_type": "code",
   "execution_count": 13,
   "metadata": {
    "executionInfo": {
     "elapsed": 411,
     "status": "ok",
     "timestamp": 1670522209034,
     "user": {
      "displayName": "Ángel Carmona",
      "userId": "03357454738723575825"
     },
     "user_tz": -60
    },
    "id": "Sc2quwXZkuPn"
   },
   "outputs": [],
   "source": [
    "y = (y >'4')"
   ]
  },
  {
   "cell_type": "code",
   "execution_count": 14,
   "metadata": {
    "executionInfo": {
     "elapsed": 901,
     "status": "ok",
     "timestamp": 1670522211193,
     "user": {
      "displayName": "Ángel Carmona",
      "userId": "03357454738723575825"
     },
     "user_tz": -60
    },
    "id": "-9zwXTyHk-zz"
   },
   "outputs": [],
   "source": [
    "X_train, X_test, y_train, y_test = train_test_split(X, y, test_size=0.2)"
   ]
  },
  {
   "cell_type": "code",
   "execution_count": 15,
   "metadata": {
    "executionInfo": {
     "elapsed": 128253,
     "status": "ok",
     "timestamp": 1670522342182,
     "user": {
      "displayName": "Ángel Carmona",
      "userId": "03357454738723575825"
     },
     "user_tz": -60
    },
    "id": "pY6WoqnBlFWR"
   },
   "outputs": [],
   "source": [
    "randomF_clf.fit(X_train, y_train)\n",
    "y_pred_rf = randomF_clf.predict(X_test)"
   ]
  },
  {
   "cell_type": "code",
   "execution_count": 16,
   "metadata": {
    "colab": {
     "base_uri": "https://localhost:8080/"
    },
    "executionInfo": {
     "elapsed": 313,
     "status": "ok",
     "timestamp": 1670522463296,
     "user": {
      "displayName": "Ángel Carmona",
      "userId": "03357454738723575825"
     },
     "user_tz": -60
    },
    "id": "iXhVvPIdlVmO",
    "outputId": "6c47100d-b683-4814-fa51-5898f7e62d8f"
   },
   "outputs": [
    {
     "data": {
      "text/plain": [
       "array([[6406,  718],\n",
       "       [ 434, 6442]])"
      ]
     },
     "execution_count": 16,
     "metadata": {},
     "output_type": "execute_result"
    }
   ],
   "source": [
    "cm = confusion_matrix(y_test, y_pred_rf)\n",
    "cm"
   ]
  },
  {
   "cell_type": "code",
   "execution_count": 17,
   "metadata": {
    "colab": {
     "base_uri": "https://localhost:8080/"
    },
    "executionInfo": {
     "elapsed": 358,
     "status": "ok",
     "timestamp": 1670522465445,
     "user": {
      "displayName": "Ángel Carmona",
      "userId": "03357454738723575825"
     },
     "user_tz": -60
    },
    "id": "vOJfBovKlt4D",
    "outputId": "eab977c5-1417-49e5-be2f-712e07a4f477"
   },
   "outputs": [
    {
     "data": {
      "text/plain": [
       "(0.9177142857142857, 0.8997206703910614)"
      ]
     },
     "execution_count": 17,
     "metadata": {},
     "output_type": "execute_result"
    }
   ],
   "source": [
    "from sklearn.metrics import accuracy_score, precision_score\n",
    "accuracy_score(y_test, y_pred_rf), precision_score(y_test, y_pred_rf)"
   ]
  }
 ],
 "metadata": {
  "colab": {
   "authorship_tag": "ABX9TyPhzdAL04U0zBM6xEHoLTVC",
   "provenance": []
  },
  "kernelspec": {
   "display_name": "Python 3 (ipykernel)",
   "language": "python",
   "name": "python3"
  },
  "language_info": {
   "codemirror_mode": {
    "name": "ipython",
    "version": 3
   },
   "file_extension": ".py",
   "mimetype": "text/x-python",
   "name": "python",
   "nbconvert_exporter": "python",
   "pygments_lexer": "ipython3",
   "version": "3.8.8"
  }
 },
 "nbformat": 4,
 "nbformat_minor": 1
}
