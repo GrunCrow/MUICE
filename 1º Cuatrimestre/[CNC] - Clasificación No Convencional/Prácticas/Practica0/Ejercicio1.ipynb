{
 "cells": [
  {
   "cell_type": "markdown",
   "metadata": {
    "id": "iaQR4UDccKhY"
   },
   "source": [
    "# **Ejercicio 1**\n",
    "Contenido del dataset: Candidatos a púlsar obtenidos mediante la exploración HTRU. Los púlsares son un tipo de estrella, de considerable interés científico. Los candidatos deben estar clasificados en clases pulsar y no pulsar para facilitar el descubrimiento.\n",
    "El ejercicio consiste obtener un modelo de clasificación para clasificar en pulsar (clase positiva) y no pulsar (clase negativa).\n",
    "El dataset está en formato csv, contiene 8 atributos y la clase. No aparecen los nombres de los atributos en la primera línea del dataset. En el código suministrado se resuelve este problema.\n",
    "\n",
    "*   URL: https://archive.ics.uci.edu/ml/datasets/HTRU2\n",
    "*   URL Dataset: https://archive.ics.uci.edu/ml/machine-learning-databases/00372/HTRU2.zip\n",
    "\n",
    "**Tomando como base el ejemplo1 de los suministrados en clase**, implementar un clasificador basado en el descenso de gradiente estocástico (SGDClassifier), que contenga los siguientes apartados:\n",
    "*   Uso de StandardScaler en el preprocesamiento.\n",
    "*   Uso de train_test_split para obtener conjunto de entrenamiento y test. Usar opción stratify ya que las clases están desbalanceadas,\n",
    "*   Uso de make_pipeline para crear un \"pipe\", que contenga el preprocesamiento y el clasificador.\n",
    "*   Obtener matriz de confusión en texto y gráfica. Así como el accuracy, precisión, recall y f1.\n",
    "*   Obtener curva ROC y su área.\n",
    "*   Obtener curva presición recall.\n",
    "*   Escribir al final una celda de texto resumiendo los pasos que se han dado y los resultados obtenidos.\n",
    "Utilizando el mismo dataset implementar clasificadores basados en Regresión Logística, SVM lineal y K vecinos más cercanos. Realizando\n",
    "\n",
    "Toda la parte del descarga y preparación del dataset se suministra en este archivo."
   ]
  },
  {
   "cell_type": "code",
   "execution_count": 1,
   "metadata": {
    "id": "rpppOFhtcFYv"
   },
   "outputs": [],
   "source": [
    "import pandas as pd"
   ]
  },
  {
   "cell_type": "code",
   "execution_count": 2,
   "metadata": {
    "id": "SCallS-kSs8U"
   },
   "outputs": [],
   "source": [
    "#https://archive.ics.uci.edu/ml/datasets/HTRU2   este es bueno para usar en la práctica  https://archive.ics.uci.edu/ml/machine-learning-databases/00372/"
   ]
  },
  {
   "cell_type": "code",
   "execution_count": 4,
   "metadata": {
    "colab": {
     "base_uri": "https://localhost:8080/"
    },
    "executionInfo": {
     "elapsed": 14,
     "status": "ok",
     "timestamp": 1671522401587,
     "user": {
      "displayName": "Ángel Carmona",
      "userId": "03357454738723575825"
     },
     "user_tz": -60
    },
    "id": "auaKa7x3TEPi",
    "outputId": "aa1e2c98-6326-451a-e18b-6048f907c2fe"
   },
   "outputs": [
    {
     "name": "stderr",
     "output_type": "stream",
     "text": [
      "--2023-11-30 19:02:35--  https://archive.ics.uci.edu/ml/machine-learning-databases/00372/HTRU2.zip\n",
      "Resolving archive.ics.uci.edu (archive.ics.uci.edu)... 128.195.10.252, 128.195.25.66, 35.208.29.18, ...\n",
      "Connecting to archive.ics.uci.edu (archive.ics.uci.edu)|128.195.10.252|:443... connected.\n",
      "HTTP request sent, awaiting response... 200 OK\n",
      "Length: unspecified\n",
      "Saving to: ‘HTRU2.zip’\n",
      "\n",
      "     0K .......... .......... .......... .......... ..........  132K\n",
      "    50K .......... .......... .......... .......... ..........  261K\n",
      "   100K .......... .......... .......... .......... ..........  266K\n",
      "   150K .......... .......... .......... .......... .......... 3.69M\n",
      "   200K .......... .......... .......... .......... .......... 7.26M\n",
      "   250K .......... .......... .......... .......... .......... 7.08M\n",
      "   300K .......... .......... .......... .......... ..........  297K\n",
      "   350K .......... .......... .......... .......... .......... 5.32M\n",
      "   400K .......... .......... .......... .......... .......... 7.03M\n",
      "   450K .......... .......... .......... .......... .......... 4.64M\n",
      "   500K .......... .......... .......... .......... .......... 7.85M\n",
      "   550K .......... .......... .......... .......... .......... 5.65M\n",
      "   600K .......... .......... .......... .......... ..........  357K\n",
      "   650K .......... .......... .......... .......... .......... 4.13M\n",
      "   700K .......... .......... .......... .......... .......... 6.31M\n",
      "   750K .......... .......... .......... .......... .......... 4.96M\n",
      "   800K .......... .......... .......... .......... .......... 7.30M\n",
      "   850K .......... .......... .......... .......... .......... 5.30M\n",
      "   900K .......... .......... .......... .......... .......... 6.76M\n",
      "   950K .......... .......... .......... .......... .......... 5.93M\n",
      "  1000K .......... .......... .......... .......... .......... 5.77M\n",
      "  1050K .......... .......... .......... .......... .......... 6.85M\n",
      "  1100K .......... .......... .......... .......... .......... 8.16M\n",
      "  1150K .......... .......... .......... .......... .......... 5.64M\n",
      "  1200K .......... .......... .......... .......... .......... 8.22M\n",
      "  1250K .......... .......... .......... .......... .......... 6.87M\n",
      "  1300K .......... .......... .......... .......... ..........  543K\n",
      "  1350K .......... .......... .......... .......... .......... 5.44M\n",
      "  1400K .......... .......... .......... .......... .......... 8.57M\n",
      "  1450K .......... .......... .......... .......... .......... 4.65M\n",
      "  1500K .......... .......... ......                           7.29M=1.4s\n",
      "\n",
      "2023-11-30 19:02:37 (1.10 MB/s) - ‘HTRU2.zip’ saved [1563015]\n",
      "\n"
     ]
    },
    {
     "name": "stdout",
     "output_type": "stream",
     "text": [
      "Archive:  HTRU2.zip\n",
      "  inflating: HTRU_2.csv              \n",
      "  inflating: HTRU_2.arff             \n",
      "  inflating: Readme.txt              \n"
     ]
    }
   ],
   "source": [
    "%%bash\n",
    "wget https://archive.ics.uci.edu/ml/machine-learning-databases/00372/HTRU2.zip\n",
    "unzip HTRU2.zip"
   ]
  },
  {
   "cell_type": "code",
   "execution_count": 5,
   "metadata": {
    "id": "SvBf4frOTcOm"
   },
   "outputs": [],
   "source": [
    "htru2 = pd.read_csv(\"HTRU_2.csv\", header = 0, names = [\"MEAN_IP\", \"SD_IP\", \"EK_IP\", \"S_IP\", \"MEAN_DN-SNR\", \"SD_DM-SNR\", \"EK_DM-SNR\", \"S_DM-SNR\", \"label\"])\n",
    "#Para añadir nombres a los atributos cuando no aparecen en el archivo csv"
   ]
  },
  {
   "cell_type": "code",
   "execution_count": 6,
   "metadata": {
    "colab": {
     "base_uri": "https://localhost:8080/",
     "height": 206
    },
    "executionInfo": {
     "elapsed": 26,
     "status": "ok",
     "timestamp": 1671522402249,
     "user": {
      "displayName": "Ángel Carmona",
      "userId": "03357454738723575825"
     },
     "user_tz": -60
    },
    "id": "BabN00wGTrsF",
    "outputId": "84123ddf-b662-49eb-ff93-437668e29604"
   },
   "outputs": [
    {
     "data": {
      "text/html": [
       "<div>\n",
       "<style scoped>\n",
       "    .dataframe tbody tr th:only-of-type {\n",
       "        vertical-align: middle;\n",
       "    }\n",
       "\n",
       "    .dataframe tbody tr th {\n",
       "        vertical-align: top;\n",
       "    }\n",
       "\n",
       "    .dataframe thead th {\n",
       "        text-align: right;\n",
       "    }\n",
       "</style>\n",
       "<table border=\"1\" class=\"dataframe\">\n",
       "  <thead>\n",
       "    <tr style=\"text-align: right;\">\n",
       "      <th></th>\n",
       "      <th>MEAN_IP</th>\n",
       "      <th>SD_IP</th>\n",
       "      <th>EK_IP</th>\n",
       "      <th>S_IP</th>\n",
       "      <th>MEAN_DN-SNR</th>\n",
       "      <th>SD_DM-SNR</th>\n",
       "      <th>EK_DM-SNR</th>\n",
       "      <th>S_DM-SNR</th>\n",
       "      <th>label</th>\n",
       "    </tr>\n",
       "  </thead>\n",
       "  <tbody>\n",
       "    <tr>\n",
       "      <th>0</th>\n",
       "      <td>102.507812</td>\n",
       "      <td>58.882430</td>\n",
       "      <td>0.465318</td>\n",
       "      <td>-0.515088</td>\n",
       "      <td>1.677258</td>\n",
       "      <td>14.860146</td>\n",
       "      <td>10.576487</td>\n",
       "      <td>127.393580</td>\n",
       "      <td>0</td>\n",
       "    </tr>\n",
       "    <tr>\n",
       "      <th>1</th>\n",
       "      <td>103.015625</td>\n",
       "      <td>39.341649</td>\n",
       "      <td>0.323328</td>\n",
       "      <td>1.051164</td>\n",
       "      <td>3.121237</td>\n",
       "      <td>21.744669</td>\n",
       "      <td>7.735822</td>\n",
       "      <td>63.171909</td>\n",
       "      <td>0</td>\n",
       "    </tr>\n",
       "    <tr>\n",
       "      <th>2</th>\n",
       "      <td>136.750000</td>\n",
       "      <td>57.178449</td>\n",
       "      <td>-0.068415</td>\n",
       "      <td>-0.636238</td>\n",
       "      <td>3.642977</td>\n",
       "      <td>20.959280</td>\n",
       "      <td>6.896499</td>\n",
       "      <td>53.593661</td>\n",
       "      <td>0</td>\n",
       "    </tr>\n",
       "    <tr>\n",
       "      <th>3</th>\n",
       "      <td>88.726562</td>\n",
       "      <td>40.672225</td>\n",
       "      <td>0.600866</td>\n",
       "      <td>1.123492</td>\n",
       "      <td>1.178930</td>\n",
       "      <td>11.468720</td>\n",
       "      <td>14.269573</td>\n",
       "      <td>252.567306</td>\n",
       "      <td>0</td>\n",
       "    </tr>\n",
       "    <tr>\n",
       "      <th>4</th>\n",
       "      <td>93.570312</td>\n",
       "      <td>46.698114</td>\n",
       "      <td>0.531905</td>\n",
       "      <td>0.416721</td>\n",
       "      <td>1.636288</td>\n",
       "      <td>14.545074</td>\n",
       "      <td>10.621748</td>\n",
       "      <td>131.394004</td>\n",
       "      <td>0</td>\n",
       "    </tr>\n",
       "  </tbody>\n",
       "</table>\n",
       "</div>"
      ],
      "text/plain": [
       "      MEAN_IP      SD_IP     EK_IP      S_IP  MEAN_DN-SNR  SD_DM-SNR  \\\n",
       "0  102.507812  58.882430  0.465318 -0.515088     1.677258  14.860146   \n",
       "1  103.015625  39.341649  0.323328  1.051164     3.121237  21.744669   \n",
       "2  136.750000  57.178449 -0.068415 -0.636238     3.642977  20.959280   \n",
       "3   88.726562  40.672225  0.600866  1.123492     1.178930  11.468720   \n",
       "4   93.570312  46.698114  0.531905  0.416721     1.636288  14.545074   \n",
       "\n",
       "   EK_DM-SNR    S_DM-SNR  label  \n",
       "0  10.576487  127.393580      0  \n",
       "1   7.735822   63.171909      0  \n",
       "2   6.896499   53.593661      0  \n",
       "3  14.269573  252.567306      0  \n",
       "4  10.621748  131.394004      0  "
      ]
     },
     "execution_count": 6,
     "metadata": {},
     "output_type": "execute_result"
    }
   ],
   "source": [
    "htru2.head()"
   ]
  },
  {
   "cell_type": "code",
   "execution_count": 7,
   "metadata": {
    "colab": {
     "base_uri": "https://localhost:8080/"
    },
    "executionInfo": {
     "elapsed": 24,
     "status": "ok",
     "timestamp": 1671522402250,
     "user": {
      "displayName": "Ángel Carmona",
      "userId": "03357454738723575825"
     },
     "user_tz": -60
    },
    "id": "wZIvAtI3UC0-",
    "outputId": "6fc5114f-3e69-4ad9-b99b-013029e0ca57"
   },
   "outputs": [
    {
     "name": "stdout",
     "output_type": "stream",
     "text": [
      "<class 'pandas.core.frame.DataFrame'>\n",
      "RangeIndex: 17897 entries, 0 to 17896\n",
      "Data columns (total 9 columns):\n",
      " #   Column       Non-Null Count  Dtype  \n",
      "---  ------       --------------  -----  \n",
      " 0   MEAN_IP      17897 non-null  float64\n",
      " 1   SD_IP        17897 non-null  float64\n",
      " 2   EK_IP        17897 non-null  float64\n",
      " 3   S_IP         17897 non-null  float64\n",
      " 4   MEAN_DN-SNR  17897 non-null  float64\n",
      " 5   SD_DM-SNR    17897 non-null  float64\n",
      " 6   EK_DM-SNR    17897 non-null  float64\n",
      " 7   S_DM-SNR     17897 non-null  float64\n",
      " 8   label        17897 non-null  int64  \n",
      "dtypes: float64(8), int64(1)\n",
      "memory usage: 1.2 MB\n"
     ]
    }
   ],
   "source": [
    "htru2.info()"
   ]
  },
  {
   "cell_type": "code",
   "execution_count": 8,
   "metadata": {
    "id": "oY1MgxA7WTHC"
   },
   "outputs": [],
   "source": [
    "htru2_labels = htru2[\"label\"] #Guardamos etiquetas aparte"
   ]
  },
  {
   "cell_type": "code",
   "execution_count": 9,
   "metadata": {
    "id": "yqa23K_lWvAG"
   },
   "outputs": [],
   "source": [
    "htru2_data = htru2.drop(\"label\", axis = 1) #Eliminamos la etiqueta"
   ]
  },
  {
   "cell_type": "code",
   "execution_count": 10,
   "metadata": {
    "id": "ixojcs4wXQNo"
   },
   "outputs": [],
   "source": [
    "htru2_labels = (htru2_labels == 1) #Cambiamos la etiqueta/clase de 0/1 a True/False"
   ]
  },
  {
   "cell_type": "code",
   "execution_count": 11,
   "metadata": {
    "colab": {
     "base_uri": "https://localhost:8080/"
    },
    "executionInfo": {
     "elapsed": 24,
     "status": "ok",
     "timestamp": 1671522402253,
     "user": {
      "displayName": "Ángel Carmona",
      "userId": "03357454738723575825"
     },
     "user_tz": -60
    },
    "id": "kOcZbouTXb3X",
    "outputId": "9b1ba983-20f5-4231-915a-1075a2060ee1"
   },
   "outputs": [
    {
     "data": {
      "text/plain": [
       "0    False\n",
       "1    False\n",
       "2    False\n",
       "3    False\n",
       "4    False\n",
       "Name: label, dtype: bool"
      ]
     },
     "execution_count": 11,
     "metadata": {},
     "output_type": "execute_result"
    }
   ],
   "source": [
    "htru2_labels.head()"
   ]
  },
  {
   "cell_type": "code",
   "execution_count": 12,
   "metadata": {
    "colab": {
     "base_uri": "https://localhost:8080/"
    },
    "executionInfo": {
     "elapsed": 328,
     "status": "ok",
     "timestamp": 1671522685789,
     "user": {
      "displayName": "Ángel Carmona",
      "userId": "03357454738723575825"
     },
     "user_tz": -60
    },
    "id": "Ap08Rr48gEOY",
    "outputId": "a5599b35-f143-4f6f-9e84-5357137f08e5"
   },
   "outputs": [
    {
     "data": {
      "text/plain": [
       "label\n",
       "False    16258\n",
       "True      1639\n",
       "Name: count, dtype: int64"
      ]
     },
     "execution_count": 12,
     "metadata": {},
     "output_type": "execute_result"
    }
   ],
   "source": [
    "htru2_labels.value_counts() #Como se puede ver, las clases están desbalanceadas y habrá que tenerlo en cuenta"
   ]
  }
 ],
 "metadata": {
  "colab": {
   "authorship_tag": "ABX9TyOoYINayukNFxTqSYUSZIyd",
   "provenance": []
  },
  "kernelspec": {
   "display_name": "Python 3 (ipykernel)",
   "language": "python",
   "name": "python3"
  },
  "language_info": {
   "codemirror_mode": {
    "name": "ipython",
    "version": 3
   },
   "file_extension": ".py",
   "mimetype": "text/x-python",
   "name": "python",
   "nbconvert_exporter": "python",
   "pygments_lexer": "ipython3",
   "version": "3.8.18"
  }
 },
 "nbformat": 4,
 "nbformat_minor": 1
}
