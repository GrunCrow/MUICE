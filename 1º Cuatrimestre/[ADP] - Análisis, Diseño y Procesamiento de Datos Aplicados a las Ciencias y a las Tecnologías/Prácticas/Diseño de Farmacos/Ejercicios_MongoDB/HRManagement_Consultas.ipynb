{
 "cells": [
  {
   "cell_type": "code",
   "execution_count": 1,
   "metadata": {},
   "outputs": [],
   "source": [
    "# importing the required libraries\n",
    "import pymongo\n",
    "import json\n",
    "import warnings\n",
    "warnings.filterwarnings('ignore')\n",
    "\n",
    "from NON_SHARABLE import *"
   ]
  },
  {
   "cell_type": "code",
   "execution_count": 2,
   "metadata": {},
   "outputs": [],
   "source": [
    "# connect to the mongoclient\n",
    "client = pymongo.MongoClient(MONGO_LINK)\n",
    "\n",
    "client = pymongo.MongoClient('mongodb://localhost:27017')\n",
    "\n",
    "# get the database\n",
    "database = client['HRManagement']"
   ]
  },
  {
   "cell_type": "code",
   "execution_count": 3,
   "metadata": {},
   "outputs": [
    {
     "name": "stdout",
     "output_type": "stream",
     "text": [
      "{'_id': ObjectId('657d8ea4d33ab24aa0cb5206'), 'DEPTNO': '0', 'DNAME': 'IT', 'LOC': 'Cordoba', 'MANAGER': '0'}\n",
      "{'_id': ObjectId('657d8ea4d33ab24aa0cb5207'), 'DEPTNO': '1', 'DNAME': 'Human Resources', 'LOC': 'Cordoba', 'MANAGER': '1'}\n",
      "{'_id': ObjectId('657d8ea4d33ab24aa0cb5208'), 'DEPTNO': '2', 'DNAME': 'Marketing', 'LOC': 'Sevilla', 'MANAGER': '6'}\n",
      "{'_id': ObjectId('657d8ea4d33ab24aa0cb5209'), 'DEPTNO': '3', 'DNAME': 'Finance', 'LOC': 'Huelva', 'MANAGER': '2'}\n",
      "{'_id': ObjectId('657d8ea4d33ab24aa0cb520a'), 'DEPTNO': '4', 'DNAME': 'Operations', 'LOC': 'Cadiz', 'MANAGER': '3'}\n",
      "{'_id': ObjectId('657d8ea4d33ab24aa0cb520b'), 'DEPTNO': '5', 'DNAME': 'Customer Support', 'LOC': 'Valencia', 'MANAGER': '4'}\n"
     ]
    }
   ],
   "source": [
    "# Consulta para obtener todos los departamentos\n",
    "all_departments = database['Departments'].find()\n",
    "for department in all_departments:\n",
    "    print(department)"
   ]
  },
  {
   "cell_type": "code",
   "execution_count": 4,
   "metadata": {},
   "outputs": [
    {
     "name": "stdout",
     "output_type": "stream",
     "text": [
      "{'_id': ObjectId('657d8ea4d33ab24aa0cb520c'), 'EMPNO': '0', 'ENAME': 'Alba Marquez Rodriguez', 'JOB': 'Computing Engineer', 'HIREDATE': '2023-12-01', 'SAL': 25000, 'COMM': 1000, 'DEPTNO': '0', 'ISBOSS': True, 'BOSS': None}\n",
      "{'_id': ObjectId('657d8ea4d33ab24aa0cb520d'), 'EMPNO': '1', 'ENAME': 'Maria Isabel Hernandez Gonzalez', 'JOB': 'Human Resources', 'HIREDATE': '2023-11-01', 'SAL': 13000, 'COMM': 1000, 'DEPTNO': '1', 'ISBOSS': True, 'BOSS': None}\n",
      "{'_id': ObjectId('657d8ea4d33ab24aa0cb520e'), 'EMPNO': '2', 'ENAME': 'Juana de la Cruz Santos', 'JOB': 'IT Technician', 'HIREDATE': '2023-04-04', 'SAL': 20000, 'COMM': 1000, 'DEPTNO': '0', 'ISBOSS': False, 'BOSS': 0}\n",
      "{'_id': ObjectId('657d8ea4d33ab24aa0cb520f'), 'EMPNO': '3', 'ENAME': 'Jorge Perez Munoz', 'JOB': 'IT Technician', 'HIREDATE': '2023-15-01', 'SAL': 15000, 'COMM': 1000, 'DEPTNO': '1', 'ISBOSS': False, 'BOSS': 0}\n",
      "{'_id': ObjectId('657d8ea4d33ab24aa0cb5210'), 'EMPNO': '4', 'ENAME': 'Lola Martinez Caraballo', 'JOB': 'IT Technician', 'HIREDATE': '2023-14-02', 'SAL': 13000, 'COMM': 1000, 'DEPTNO': '1', 'ISBOSS': False, 'BOSS': 0}\n",
      "{'_id': ObjectId('657d8ea4d33ab24aa0cb5211'), 'EMPNO': '5', 'ENAME': 'Luis Moreno Diaz', 'JOB': 'Psicologist', 'HIREDATE': '2023-18-02', 'SAL': 12000, 'COMM': 1000, 'DEPTNO': '1', 'ISBOSS': False, 'BOSS': 1}\n",
      "{'_id': ObjectId('657d8ea4d33ab24aa0cb5212'), 'EMPNO': '6', 'ENAME': 'Amanda Villa Lopez', 'JOB': 'Marketer', 'HIREDATE': '2023-18-02', 'SAL': 23000, 'COMM': 1000, 'DEPTNO': '2', 'ISBOSS': True, 'BOSS': 0}\n",
      "{'_id': ObjectId('657d8ea4d33ab24aa0cb5213'), 'EMPNO': '7', 'ENAME': 'Carlos Ruiz Gomez', 'JOB': 'Financial Analyst', 'HIREDATE': '2023-05-10', 'SAL': 18000, 'COMM': 800, 'DEPTNO': '3', 'ISBOSS': True, 'BOSS': None}\n",
      "{'_id': ObjectId('657d8ea4d33ab24aa0cb5214'), 'EMPNO': '8', 'ENAME': 'Ana Jimenez Garcia', 'JOB': 'Operations Manager', 'HIREDATE': '2023-06-15', 'SAL': 22000, 'COMM': 1200, 'DEPTNO': '4', 'ISBOSS': True, 'BOSS': None}\n",
      "{'_id': ObjectId('657d8ea4d33ab24aa0cb5215'), 'EMPNO': '9', 'ENAME': 'Miguel Serrano Navarro', 'JOB': 'Customer Support Specialist', 'HIREDATE': '2023-04-20', 'SAL': 16000, 'COMM': 700, 'DEPTNO': '5', 'ISBOSS': True, 'BOSS': None}\n",
      "{'_id': ObjectId('657d8ea4d33ab24aa0cb5216'), 'EMPNO': '10', 'ENAME': 'Elena Rodriguez Fernandez', 'JOB': 'IT Analyst', 'HIREDATE': '2023-05-01', 'SAL': 19000, 'COMM': 900, 'DEPTNO': '0', 'ISBOSS': False, 'BOSS': 0}\n",
      "{'_id': ObjectId('657d8ea4d33ab24aa0cb5217'), 'EMPNO': '11', 'ENAME': 'Pedro Sanchez Gomez', 'JOB': 'Marketing Specialist', 'HIREDATE': '2023-06-10', 'SAL': 21000, 'COMM': 1000, 'DEPTNO': '2', 'ISBOSS': False, 'BOSS': 6}\n",
      "{'_id': ObjectId('657d8ea4d33ab24aa0cb5218'), 'EMPNO': '12', 'ENAME': 'Sara Diaz Hernandez', 'JOB': 'Customer Support Representative', 'HIREDATE': '2023-07-01', 'SAL': 17000, 'COMM': 800, 'DEPTNO': '5', 'ISBOSS': False, 'BOSS': 9}\n",
      "{'_id': ObjectId('657d8ea4d33ab24aa0cb5219'), 'EMPNO': '13', 'ENAME': 'Antonio Lopez Ruiz', 'JOB': 'Finance Assistant', 'HIREDATE': '2023-08-15', 'SAL': 15000, 'COMM': 700, 'DEPTNO': '3', 'ISBOSS': False, 'BOSS': 7}\n",
      "{'_id': ObjectId('657d8ea4d33ab24aa0cb521a'), 'EMPNO': '14', 'ENAME': 'Laura Martin Alonso', 'JOB': 'Operations Specialist', 'HIREDATE': '2023-09-20', 'SAL': 20000, 'COMM': 1000, 'DEPTNO': '4', 'ISBOSS': False, 'BOSS': 8}\n",
      "{'_id': ObjectId('657d8ea4d33ab24aa0cb521b'), 'EMPNO': '15', 'ENAME': 'Pablo Garcia Rodriguez', 'JOB': 'IT Specialist', 'HIREDATE': '2023-10-01', 'SAL': 18000, 'COMM': 900, 'DEPTNO': '0', 'ISBOSS': False, 'BOSS': 10}\n",
      "{'_id': ObjectId('657d8ea4d33ab24aa0cb521c'), 'EMPNO': '16', 'ENAME': 'Isabel Ramos Martinez', 'JOB': 'Customer Support Representative', 'HIREDATE': '2023-11-10', 'SAL': 16000, 'COMM': 800, 'DEPTNO': '5', 'ISBOSS': False, 'BOSS': 9}\n",
      "{'_id': ObjectId('657d8ea4d33ab24aa0cb521d'), 'EMPNO': '17', 'ENAME': 'Manuel Torres Rodriguez', 'JOB': 'IT Analyst', 'HIREDATE': '2023-12-01', 'SAL': 18000, 'COMM': 900, 'DEPTNO': '0', 'ISBOSS': False, 'BOSS': 10}\n",
      "{'_id': ObjectId('657d8ea4d33ab24aa0cb521e'), 'EMPNO': '18', 'ENAME': 'Silvia Fernandez Navarro', 'JOB': 'Marketing Coordinator', 'HIREDATE': '2023-01-15', 'SAL': 19000, 'COMM': 1000, 'DEPTNO': '2', 'ISBOSS': False, 'BOSS': 6}\n",
      "{'_id': ObjectId('657d8ea4d33ab24aa0cb521f'), 'EMPNO': '19', 'ENAME': 'Rafael Lopez Diaz', 'JOB': 'Finance Analyst', 'HIREDATE': '2023-02-20', 'SAL': 17000, 'COMM': 800, 'DEPTNO': '3', 'ISBOSS': False, 'BOSS': 7}\n",
      "{'_id': ObjectId('657d8ea4d33ab24aa0cb5220'), 'EMPNO': '20', 'ENAME': 'Carmen Serrano Ruiz', 'JOB': 'Operations Specialist', 'HIREDATE': '2023-03-01', 'SAL': 20000, 'COMM': 1000, 'DEPTNO': '4', 'ISBOSS': False, 'BOSS': 8}\n",
      "{'_id': ObjectId('657d8ea4d33ab24aa0cb5221'), 'EMPNO': '21', 'ENAME': 'Diego Garcia Herrera', 'JOB': 'IT Specialist', 'HIREDATE': '2023-04-10', 'SAL': 19000, 'COMM': 900, 'DEPTNO': '0', 'ISBOSS': False, 'BOSS': 10}\n",
      "{'_id': ObjectId('657d8ea4d33ab24aa0cb5222'), 'EMPNO': '22', 'ENAME': 'Natalia Diaz Martin', 'JOB': 'Customer Support Representative', 'HIREDATE': '2023-05-15', 'SAL': 16000, 'COMM': 800, 'DEPTNO': '5', 'ISBOSS': False, 'BOSS': 9}\n",
      "{'_id': ObjectId('657d8ea4d33ab24aa0cb5223'), 'EMPNO': '23', 'ENAME': 'Juan Perez Gomez', 'JOB': 'Marketing Specialist', 'HIREDATE': '2023-06-01', 'SAL': 21000, 'COMM': 1000, 'DEPTNO': '2', 'ISBOSS': False, 'BOSS': 6}\n",
      "{'_id': ObjectId('657d8ea4d33ab24aa0cb5224'), 'EMPNO': '24', 'ENAME': 'Sofia Martin Torres', 'JOB': 'Finance Assistant', 'HIREDATE': '2023-07-10', 'SAL': 15000, 'COMM': 700, 'DEPTNO': '3', 'ISBOSS': False, 'BOSS': 7}\n",
      "{'_id': ObjectId('657d8ea4d33ab24aa0cb5225'), 'EMPNO': '25', 'ENAME': 'Alejandro Ruiz Garcia', 'JOB': 'Operations Manager', 'HIREDATE': '2023-08-15', 'SAL': 22000, 'COMM': 1200, 'DEPTNO': '4', 'ISBOSS': False, 'BOSS': 8}\n"
     ]
    }
   ],
   "source": [
    "# Consulta para obtener todos los empleados\n",
    "all_employees = database['Employees'].find()\n",
    "for employee in all_employees:\n",
    "    print(employee)"
   ]
  },
  {
   "cell_type": "code",
   "execution_count": 5,
   "metadata": {},
   "outputs": [
    {
     "name": "stdout",
     "output_type": "stream",
     "text": [
      "{'_id': ObjectId('657d8ea4d33ab24aa0cb520c'), 'EMPNO': '0', 'ENAME': 'Alba Marquez Rodriguez', 'JOB': 'Computing Engineer', 'HIREDATE': '2023-12-01', 'SAL': 25000, 'COMM': 1000, 'DEPTNO': '0', 'ISBOSS': True, 'BOSS': None}\n",
      "{'_id': ObjectId('657d8ea4d33ab24aa0cb520e'), 'EMPNO': '2', 'ENAME': 'Juana de la Cruz Santos', 'JOB': 'IT Technician', 'HIREDATE': '2023-04-04', 'SAL': 20000, 'COMM': 1000, 'DEPTNO': '0', 'ISBOSS': False, 'BOSS': 0}\n",
      "{'_id': ObjectId('657d8ea4d33ab24aa0cb5216'), 'EMPNO': '10', 'ENAME': 'Elena Rodriguez Fernandez', 'JOB': 'IT Analyst', 'HIREDATE': '2023-05-01', 'SAL': 19000, 'COMM': 900, 'DEPTNO': '0', 'ISBOSS': False, 'BOSS': 0}\n",
      "{'_id': ObjectId('657d8ea4d33ab24aa0cb521b'), 'EMPNO': '15', 'ENAME': 'Pablo Garcia Rodriguez', 'JOB': 'IT Specialist', 'HIREDATE': '2023-10-01', 'SAL': 18000, 'COMM': 900, 'DEPTNO': '0', 'ISBOSS': False, 'BOSS': 10}\n",
      "{'_id': ObjectId('657d8ea4d33ab24aa0cb521d'), 'EMPNO': '17', 'ENAME': 'Manuel Torres Rodriguez', 'JOB': 'IT Analyst', 'HIREDATE': '2023-12-01', 'SAL': 18000, 'COMM': 900, 'DEPTNO': '0', 'ISBOSS': False, 'BOSS': 10}\n",
      "{'_id': ObjectId('657d8ea4d33ab24aa0cb5221'), 'EMPNO': '21', 'ENAME': 'Diego Garcia Herrera', 'JOB': 'IT Specialist', 'HIREDATE': '2023-04-10', 'SAL': 19000, 'COMM': 900, 'DEPTNO': '0', 'ISBOSS': False, 'BOSS': 10}\n"
     ]
    }
   ],
   "source": [
    "# Consulta para obtener los empleados de un departamento específico (ejemplo con DEPTNO = '0')\n",
    "it_department_employees = database['Employees'].find({\"DEPTNO\": \"0\"})\n",
    "for employee in it_department_employees:\n",
    "    print(employee)"
   ]
  },
  {
   "cell_type": "code",
   "execution_count": 6,
   "metadata": {},
   "outputs": [
    {
     "name": "stdout",
     "output_type": "stream",
     "text": [
      "Amanda Villa Lopez\n"
     ]
    }
   ],
   "source": [
    "# Consulta para obtener el nombre del jefe de un departamento (ejemplo con DEPTNO = '2')\n",
    "marketing_department_boss = database['Employees'].find_one({\"DEPTNO\": \"2\", \"ISBOSS\": True})\n",
    "print(marketing_department_boss['ENAME'])"
   ]
  },
  {
   "cell_type": "code",
   "execution_count": 7,
   "metadata": {},
   "outputs": [
    {
     "name": "stdout",
     "output_type": "stream",
     "text": [
      "Total de empleados: 26\n"
     ]
    }
   ],
   "source": [
    "# Consulta para obtener la cantidad total de empleados\n",
    "total_employees_count = database['Employees'].count_documents({})\n",
    "print(f\"Total de empleados: {total_employees_count}\")"
   ]
  },
  {
   "cell_type": "code",
   "execution_count": 8,
   "metadata": {},
   "outputs": [
    {
     "name": "stdout",
     "output_type": "stream",
     "text": [
      "{'_id': ObjectId('657d8ea4d33ab24aa0cb520c'), 'EMPNO': '0', 'ENAME': 'Alba Marquez Rodriguez', 'JOB': 'Computing Engineer', 'HIREDATE': '2023-12-01', 'SAL': 25000, 'COMM': 1000, 'DEPTNO': '0', 'ISBOSS': True, 'BOSS': None}\n",
      "{'_id': ObjectId('657d8ea4d33ab24aa0cb5212'), 'EMPNO': '6', 'ENAME': 'Amanda Villa Lopez', 'JOB': 'Marketer', 'HIREDATE': '2023-18-02', 'SAL': 23000, 'COMM': 1000, 'DEPTNO': '2', 'ISBOSS': True, 'BOSS': 0}\n",
      "{'_id': ObjectId('657d8ea4d33ab24aa0cb5214'), 'EMPNO': '8', 'ENAME': 'Ana Jimenez Garcia', 'JOB': 'Operations Manager', 'HIREDATE': '2023-06-15', 'SAL': 22000, 'COMM': 1200, 'DEPTNO': '4', 'ISBOSS': True, 'BOSS': None}\n",
      "{'_id': ObjectId('657d8ea4d33ab24aa0cb5217'), 'EMPNO': '11', 'ENAME': 'Pedro Sanchez Gomez', 'JOB': 'Marketing Specialist', 'HIREDATE': '2023-06-10', 'SAL': 21000, 'COMM': 1000, 'DEPTNO': '2', 'ISBOSS': False, 'BOSS': 6}\n",
      "{'_id': ObjectId('657d8ea4d33ab24aa0cb5223'), 'EMPNO': '23', 'ENAME': 'Juan Perez Gomez', 'JOB': 'Marketing Specialist', 'HIREDATE': '2023-06-01', 'SAL': 21000, 'COMM': 1000, 'DEPTNO': '2', 'ISBOSS': False, 'BOSS': 6}\n",
      "{'_id': ObjectId('657d8ea4d33ab24aa0cb5225'), 'EMPNO': '25', 'ENAME': 'Alejandro Ruiz Garcia', 'JOB': 'Operations Manager', 'HIREDATE': '2023-08-15', 'SAL': 22000, 'COMM': 1200, 'DEPTNO': '4', 'ISBOSS': False, 'BOSS': 8}\n"
     ]
    }
   ],
   "source": [
    "# Consulta para obtener los empleados cuyo salario sea mayor a 20000\n",
    "high_salary_employees = database['Employees'].find({\"SAL\": {\"$gt\": 20000}})\n",
    "for employee in high_salary_employees:\n",
    "    print(employee)"
   ]
  },
  {
   "cell_type": "code",
   "execution_count": null,
   "metadata": {},
   "outputs": [],
   "source": [
    "# Consulta para obtener los departamentos en una ubicación específica (ejemplo con LOC = 'Cordoba')\n",
    "cordoba_departments = database['Departments'].find({\"LOC\": \"Cordoba\"})\n",
    "for department in cordoba_departments:\n",
    "    print(department)"
   ]
  },
  {
   "cell_type": "code",
   "execution_count": null,
   "metadata": {},
   "outputs": [],
   "source": [
    "# Consulta para obtener los empleados que fueron contratados después de cierta fecha (ejemplo con HIREDATE después de '2023-06-01')\n",
    "recently_hired_employees = database['Employees'].find({\"HIREDATE\": {\"$gt\": \"2023-06-01\"}})\n",
    "for employee in recently_hired_employees:\n",
    "    print(employee)"
   ]
  },
  {
   "cell_type": "code",
   "execution_count": null,
   "metadata": {},
   "outputs": [],
   "source": [
    "# Consulta para obtener los empleados que son jefes (ISBOSS=True)\n",
    "boss_employees = database['Employees'].find({\"ISBOSS\": True})\n",
    "for boss in boss_employees:\n",
    "    print(boss)"
   ]
  },
  {
   "cell_type": "code",
   "execution_count": null,
   "metadata": {},
   "outputs": [],
   "source": [
    "# Consulta para obtener los departamentos que tienen al menos un empleado\n",
    "departments_with_employees = database['Departments'].find({\"DEPTNO\": {\"$in\": [employee['DEPTNO'] for employee in all_employees]}})\n",
    "for department in departments_with_employees:\n",
    "    print(department)"
   ]
  }
 ],
 "metadata": {
  "kernelspec": {
   "display_name": "ADP",
   "language": "python",
   "name": "python3"
  },
  "language_info": {
   "codemirror_mode": {
    "name": "ipython",
    "version": 3
   },
   "file_extension": ".py",
   "mimetype": "text/x-python",
   "name": "python",
   "nbconvert_exporter": "python",
   "pygments_lexer": "ipython3",
   "version": "3.8.18"
  }
 },
 "nbformat": 4,
 "nbformat_minor": 2
}
