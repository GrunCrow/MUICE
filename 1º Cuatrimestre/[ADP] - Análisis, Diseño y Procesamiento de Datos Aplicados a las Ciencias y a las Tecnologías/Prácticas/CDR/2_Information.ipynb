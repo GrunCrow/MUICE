{
 "cells": [
  {
   "cell_type": "markdown",
   "metadata": {},
   "source": [
    "## Librerias"
   ]
  },
  {
   "cell_type": "code",
   "execution_count": 2,
   "metadata": {},
   "outputs": [],
   "source": [
    "import pymongo\n",
    "from bson.son import SON\n",
    "import pandas as pd"
   ]
  },
  {
   "cell_type": "markdown",
   "metadata": {},
   "source": [
    "# Conexión Base de Datos"
   ]
  },
  {
   "cell_type": "code",
   "execution_count": 3,
   "metadata": {},
   "outputs": [],
   "source": [
    "client = pymongo.MongoClient('mongodb://localhost:27017')\n",
    "database = client['Milan_CDR_db']\n",
    "Milan_CDR_c = database['Milan_CDR_c']"
   ]
  },
  {
   "cell_type": "markdown",
   "metadata": {},
   "source": [
    "### 1. Encuentra los países con los que se interactúa."
   ]
  },
  {
   "cell_type": "code",
   "execution_count": 4,
   "metadata": {},
   "outputs": [
    {
     "name": "stdout",
     "output_type": "stream",
     "text": [
      "Países con los que se interactúa: [0, 1, 7, 20, 27, 30, 31, 32, 33, 34, 36, 39, 40, 41, 43, 44, 45, 46, 47, 48, 49, 51, 52, 53, 54, 55, 56, 57, 58, 60, 61, 62, 63, 64, 65, 66, 81, 82, 84, 86, 90, 91, 92, 93, 94, 95, 98, 211, 212, 213, 216, 218, 220, 221, 222, 223, 224, 225, 226, 227, 228, 229, 230, 231, 232, 233, 234, 235, 236, 237, 238, 239, 240, 241, 242, 243, 244, 245, 247, 248, 249, 250, 251, 252, 253, 254, 255, 256, 257, 258, 260, 261, 262, 263, 264, 265, 266, 267, 268, 269, 291, 297, 298, 350, 351, 352, 353, 354, 355, 356, 357, 358, 359, 370, 371, 372, 373, 374, 375, 376, 377, 378, 380, 381, 382, 385, 386, 387, 389, 420, 421, 423, 500, 501, 502, 503, 504, 505, 506, 507, 508, 509, 590, 591, 592, 593, 594, 595, 596, 597, 598, 599, 670, 672, 673, 675, 676, 677, 678, 679, 680, 681, 687, 688, 689, 690, 850, 852, 853, 855, 856, 870, 880, 881, 886, 960, 961, 962, 963, 964, 965, 966, 967, 968, 970, 971, 972, 973, 974, 975, 976, 977, 992, 993, 994, 995, 996, 998, 1139, 1204, 1214, 1226, 1242, 1246, 1250, 1264, 1268, 1284, 1289, 1306, 1340, 1345, 1403, 1416, 1418, 1438, 1441, 1450, 1473, 1506, 1514, 1519, 1579, 1581, 1587, 1604, 1613, 1641, 1647, 1649, 1670, 1671, 1684, 1705, 1709, 1721, 1758, 1767, 1778, 1780, 1784, 1787, 1807, 1808, 1809, 1819, 1829, 1849, 1902, 1905, 1907, 1926, 1929, 1939, 7700, 7701, 7702, 7705, 7707, 7710, 7711, 7712, 7713, 7714, 7715, 7717, 7721, 7725, 7727, 7729, 7771, 7775, 7776, 7777, 7778, 8816, 12684, 12687, 12845, 14413, 14415, 14417, 17672, 18092, 18093, 18094, 18096, 18097, 18098, 18099, 18682, 18683, 18684, 18686, 18762, 18763, 18764, 18768, 18769, 50936, 50937, 50938, 50947, 50948, 88216, 88239, 97256, 97259]\n"
     ]
    }
   ],
   "source": [
    "pipeline = [\n",
    "    {\"$group\": {\"_id\": \"$countrycode\"}},\n",
    "    {\"$sort\": SON([(\"_id\", 1)])}\n",
    "]\n",
    "\n",
    "distinct_countries = Milan_CDR_c.aggregate(pipeline)\n",
    "distinct_countries = [doc['_id'] for doc in distinct_countries]\n",
    "print(\"Países con los que se interactúa:\", distinct_countries)"
   ]
  },
  {
   "cell_type": "markdown",
   "metadata": {},
   "source": [
    "### 2. Encuentra qué país es con el que más se interactúa además de Italia.\n"
   ]
  },
  {
   "cell_type": "code",
   "execution_count": 6,
   "metadata": {},
   "outputs": [
    {
     "name": "stdout",
     "output_type": "stream",
     "text": [
      "País con el que más se interactúa (además de Italia y otro país excluido): 49\n"
     ]
    }
   ],
   "source": [
    "# Italia = 39\n",
    "# Llamadas internas = 0\n",
    "excluded_countries = [39, 0]\n",
    "\n",
    "pipeline_top_countries = [\n",
    "    {\"$match\": {\"countrycode\": {\"$nin\": excluded_countries}}},\n",
    "    {\"$group\": {\"_id\": \"$countrycode\", \"count\": {\"$sum\": 1}}},\n",
    "    {\"$sort\": {\"count\": -1}},\n",
    "    {\"$limit\": 1}\n",
    "]\n",
    "\n",
    "top_interacted_country = Milan_CDR_c.aggregate(pipeline_top_countries)\n",
    "top_interacted_country = list(top_interacted_country)[0]['_id']\n",
    "\n",
    "print(\"País con el que más se interactúa (además de Italia y otro país excluido):\", top_interacted_country)\n"
   ]
  },
  {
   "cell_type": "markdown",
   "metadata": {},
   "source": [
    "### 3. ¿Qué celda comunica más con el extranjero?"
   ]
  },
  {
   "cell_type": "code",
   "execution_count": 7,
   "metadata": {},
   "outputs": [
    {
     "name": "stdout",
     "output_type": "stream",
     "text": [
      "Celda que más comunica con el extranjero: 6064\n"
     ]
    }
   ],
   "source": [
    "# Italia = 39\n",
    "# Llamadas internas = 0\n",
    "excluded_countries = [39, 0]\n",
    "\n",
    "pipeline_foreign_cell = [\n",
    "    {\"$match\": {\"countrycode\": {\"$nin\": excluded_countries}}},\n",
    "    {\"$group\": {\"_id\": \"$cellid\", \"count\": {\"$sum\": 1}}},\n",
    "    {\"$sort\": SON([(\"count\", -1)])},\n",
    "    {\"$limit\": 1}\n",
    "]\n",
    "\n",
    "most_foreign_communicating_cell = Milan_CDR_c.aggregate(pipeline_foreign_cell)\n",
    "most_foreign_communicating_cell = list(most_foreign_communicating_cell)[0]['_id']\n",
    "print(\"Celda que más comunica con el extranjero:\", most_foreign_communicating_cell)"
   ]
  },
  {
   "cell_type": "markdown",
   "metadata": {},
   "source": [
    "### 4. Encuentra la celda con más actividad de smsin, smsout, callin, callout, internet y la total"
   ]
  },
  {
   "cell_type": "code",
   "execution_count": 8,
   "metadata": {},
   "outputs": [
    {
     "name": "stdout",
     "output_type": "stream",
     "text": [
      "Celda con más actividad de smsin: 5161\n",
      "Celda con más actividad de smsout: 5059\n",
      "Celda con más actividad de callin: 5059\n",
      "Celda con más actividad de callout: 5059\n",
      "Celda con más actividad de Internet: 5161\n",
      "Celda con más actividad total: 5161\n"
     ]
    }
   ],
   "source": [
    "# Encuentra la celda con más actividad de smsin\n",
    "pipeline_smsin = [\n",
    "    {\"$group\": {\"_id\": \"$cellid\", \"total_smsin\": {\"$sum\": \"$smsin\"}}},\n",
    "    {\"$sort\": {\"total_smsin\": -1}},\n",
    "    {\"$limit\": 1}\n",
    "]\n",
    "\n",
    "most_active_smsin_cell = Milan_CDR_c.aggregate(pipeline_smsin)\n",
    "most_active_smsin_cell = list(most_active_smsin_cell)[0]['_id']\n",
    "\n",
    "# Encuentra la celda con más actividad de smsout\n",
    "pipeline_smsout = [\n",
    "    {\"$group\": {\"_id\": \"$cellid\", \"total_smsout\": {\"$sum\": \"$smsout\"}}},\n",
    "    {\"$sort\": {\"total_smsout\": -1}},\n",
    "    {\"$limit\": 1}\n",
    "]\n",
    "\n",
    "most_active_smsout_cell = Milan_CDR_c.aggregate(pipeline_smsout)\n",
    "most_active_smsout_cell = list(most_active_smsout_cell)[0]['_id']\n",
    "\n",
    "# Encuentra la celda con más actividad de callin\n",
    "pipeline_callin = [\n",
    "    {\"$group\": {\"_id\": \"$cellid\", \"total_callin\": {\"$sum\": \"$callin\"}}},\n",
    "    {\"$sort\": {\"total_callin\": -1}},\n",
    "    {\"$limit\": 1}\n",
    "]\n",
    "\n",
    "most_active_callin_cell = Milan_CDR_c.aggregate(pipeline_callin)\n",
    "most_active_callin_cell = list(most_active_callin_cell)[0]['_id']\n",
    "\n",
    "# Encuentra la celda con más actividad de callout\n",
    "pipeline_callout = [\n",
    "    {\"$group\": {\"_id\": \"$cellid\", \"total_callout\": {\"$sum\": \"$callout\"}}},\n",
    "    {\"$sort\": {\"total_callout\": -1}},\n",
    "    {\"$limit\": 1}\n",
    "]\n",
    "\n",
    "most_active_callout_cell = Milan_CDR_c.aggregate(pipeline_callout)\n",
    "most_active_callout_cell = list(most_active_callout_cell)[0]['_id']\n",
    "\n",
    "# Encuentra la celda con más actividad de Internet\n",
    "pipeline_internet = [\n",
    "    {\"$group\": {\"_id\": \"$cellid\", \"total_internet\": {\"$sum\": \"$Internet\"}}},\n",
    "    {\"$sort\": {\"total_internet\": -1}},\n",
    "    {\"$limit\": 1}\n",
    "]\n",
    "\n",
    "most_active_internet_cell = Milan_CDR_c.aggregate(pipeline_internet)\n",
    "most_active_internet_cell = list(most_active_internet_cell)[0]['_id']\n",
    "\n",
    "# Encuentra la celda con más actividad total\n",
    "pipeline_total_activity = [\n",
    "    {\"$group\": {\n",
    "        \"_id\": \"$cellid\",\n",
    "        \"total_activity\": {\"$sum\": {\"$sum\": [\"$smsin\", \"$smsout\", \"$callin\", \"$callout\", \"$Internet\"]}}\n",
    "    }},\n",
    "    {\"$sort\": {\"total_activity\": -1}},\n",
    "    {\"$limit\": 1}\n",
    "]\n",
    "\n",
    "most_active_total_cell = Milan_CDR_c.aggregate(pipeline_total_activity)\n",
    "most_active_total_cell = list(most_active_total_cell)[0]['_id']\n",
    "\n",
    "# Imprime los resultados\n",
    "print(\"Celda con más actividad de smsin:\", most_active_smsin_cell)\n",
    "print(\"Celda con más actividad de smsout:\", most_active_smsout_cell)\n",
    "print(\"Celda con más actividad de callin:\", most_active_callin_cell)\n",
    "print(\"Celda con más actividad de callout:\", most_active_callout_cell)\n",
    "print(\"Celda con más actividad de Internet:\", most_active_internet_cell)\n",
    "print(\"Celda con más actividad total:\", most_active_total_cell)\n"
   ]
  },
  {
   "cell_type": "markdown",
   "metadata": {},
   "source": [
    "### 5. Crea una colección con un documento por celda en el que aparezcan los acumulados de los diferentes campos."
   ]
  },
  {
   "cell_type": "code",
   "execution_count": 9,
   "metadata": {},
   "outputs": [
    {
     "data": {
      "text/plain": [
       "<pymongo.command_cursor.CommandCursor at 0x1c771c48520>"
      ]
     },
     "execution_count": 9,
     "metadata": {},
     "output_type": "execute_result"
    }
   ],
   "source": [
    "pipeline_accumulated_by_cell = [\n",
    "    {\"$group\": {\"_id\": \"$cellid\",\n",
    "                \"total_smsin\": {\"$sum\": \"$smsin\"},\n",
    "                \"total_smsout\": {\"$sum\": \"$smsout\"},\n",
    "                \"total_callin\": {\"$sum\": \"$callin\"},\n",
    "                \"total_callout\": {\"$sum\": \"$callout\"},\n",
    "                \"total_internet\": {\"$sum\": \"$Internet\"}}},\n",
    "    {\"$out\": \"accumulated_by_cell\"}\n",
    "]\n",
    "\n",
    "Milan_CDR_c.aggregate(pipeline_accumulated_by_cell)"
   ]
  },
  {
   "cell_type": "markdown",
   "metadata": {},
   "source": [
    "### 6. Crea una colección con un documento por celda y hora en el que aparezcan los acumulados de los diferentes campos.\n"
   ]
  },
  {
   "cell_type": "code",
   "execution_count": 10,
   "metadata": {},
   "outputs": [
    {
     "data": {
      "text/plain": [
       "<pymongo.command_cursor.CommandCursor at 0x1c771cba4c0>"
      ]
     },
     "execution_count": 10,
     "metadata": {},
     "output_type": "execute_result"
    }
   ],
   "source": [
    "pipeline_accumulated_by_cell_and_hour = [\n",
    "    {\"$group\": {\"_id\": {\"cellid\": \"$cellid\", \"hour\": {\"$hour\": {\"$toDate\": \"$time\"}}},\n",
    "                \"total_smsin\": {\"$sum\": \"$smsin\"},\n",
    "                \"total_smsout\": {\"$sum\": \"$smsout\"},\n",
    "                \"total_callin\": {\"$sum\": \"$callin\"},\n",
    "                \"total_callout\": {\"$sum\": \"$callout\"},\n",
    "                \"total_internet\": {\"$sum\": \"$Internet\"}}},\n",
    "    {\"$out\": \"accumulated_by_cell_and_hour\"}\n",
    "]\n",
    "\n",
    "Milan_CDR_c.aggregate(pipeline_accumulated_by_cell_and_hour)"
   ]
  },
  {
   "cell_type": "markdown",
   "metadata": {},
   "source": [
    "### 7. Realiza un estudio de las celdas especificadas\n"
   ]
  },
  {
   "cell_type": "code",
   "execution_count": 6,
   "metadata": {},
   "outputs": [
    {
     "name": "stdout",
     "output_type": "stream",
     "text": [
      "--------------------------------------------------\n",
      "         Análisis de la celda: 4259\n",
      "--------------------------------------------------\n",
      "\n",
      "Países con los que se interactúa: [0, 1, 7, 20, 27, 30, 31, 32, 33, 34, 36, 39, 40, 41, 43, 44, 45, 46, 47, 48, 49, 51, 52, 53, 54, 55, 57, 60, 61, 62, 63, 64, 66, 81, 82, 84, 86, 90, 91, 94, 98, 212, 213, 216, 220, 221, 226, 228, 230, 234, 242, 244, 251, 256, 291, 351, 352, 353, 355, 356, 357, 358, 359, 370, 371, 372, 373, 377, 380, 381, 382, 385, 386, 420, 421, 503, 505, 507, 591, 593, 852, 880, 886, 961, 965, 966, 971, 972, 974, 975, 995, 1204, 1438, 1514, 1604, 1613, 1780, 7777, 18092, 88239]\n",
      "País con el que más se interactúa (además de Italia y llamadas internas): 49\n",
      "Acumulados:\n",
      "_id                 4259.000000\n",
      "total_smsin        12724.153334\n",
      "total_smsout        6468.609191\n",
      "total_callin        8935.102460\n",
      "total_callout      10299.850557\n",
      "total_internet    233453.127646\n",
      "dtype: float64\n",
      "\n",
      "\n",
      " ========================================================================== \n",
      "\n",
      "\n",
      "--------------------------------------------------\n",
      "         Análisis de la celda: 4456\n",
      "--------------------------------------------------\n",
      "\n",
      "Países con los que se interactúa: [0, 1, 7, 20, 27, 30, 31, 32, 33, 34, 36, 39, 40, 41, 43, 44, 45, 46, 47, 48, 49, 51, 52, 53, 54, 55, 56, 57, 58, 60, 61, 62, 63, 65, 66, 81, 82, 86, 90, 91, 92, 94, 98, 212, 213, 216, 221, 222, 226, 229, 230, 232, 233, 234, 237, 238, 242, 243, 251, 254, 255, 261, 351, 352, 353, 354, 355, 356, 357, 358, 359, 370, 371, 372, 373, 375, 377, 378, 380, 381, 382, 385, 386, 420, 421, 503, 507, 591, 593, 595, 598, 678, 852, 880, 886, 961, 962, 966, 967, 968, 970, 971, 972, 974, 995, 1204, 1289, 1403, 1416, 1514, 1604, 1778, 1780, 1829, 1907, 1929, 7701, 7702, 7777, 50937, 88239, 97259]\n",
      "País con el que más se interactúa (además de Italia y llamadas internas): 44\n",
      "Acumulados:\n",
      "_id                 4456.000000\n",
      "total_smsin        33537.435050\n",
      "total_smsout       14909.557291\n",
      "total_callin       23917.864365\n",
      "total_callout      23001.288772\n",
      "total_internet    568506.598233\n",
      "dtype: float64\n",
      "\n",
      "\n",
      " ========================================================================== \n",
      "\n",
      "\n",
      "--------------------------------------------------\n",
      "         Análisis de la celda: 5060\n",
      "--------------------------------------------------\n",
      "\n",
      "Países con los que se interactúa: [0, 1, 7, 20, 27, 30, 31, 32, 33, 34, 36, 39, 40, 41, 43, 44, 45, 46, 47, 48, 49, 51, 52, 53, 54, 55, 56, 57, 58, 60, 61, 62, 63, 64, 65, 66, 81, 82, 84, 86, 90, 91, 92, 94, 98, 212, 213, 216, 218, 221, 223, 226, 228, 229, 230, 233, 234, 237, 238, 241, 242, 243, 245, 250, 254, 255, 256, 258, 260, 261, 262, 350, 351, 352, 353, 354, 355, 356, 357, 358, 359, 370, 371, 372, 373, 375, 377, 378, 380, 381, 382, 385, 386, 387, 389, 420, 421, 423, 503, 507, 509, 592, 593, 595, 598, 673, 852, 853, 880, 886, 960, 961, 962, 964, 965, 966, 967, 968, 970, 971, 972, 973, 974, 976, 994, 995, 996, 1204, 1214, 1403, 1416, 1418, 1450, 1514, 1587, 1604, 1613, 1647, 1787, 1829, 1905, 7700, 7701, 7717, 7721, 7777, 7778, 18763, 18764, 18768, 50937, 88239, 97256, 97259]\n",
      "País con el que más se interactúa (además de Italia y llamadas internas): 44\n",
      "Acumulados:\n",
      "_id                 5060.000000\n",
      "total_smsin        69090.062240\n",
      "total_smsout       33268.123900\n",
      "total_callin       42971.304990\n",
      "total_callout      52596.482770\n",
      "total_internet    612496.942316\n",
      "dtype: float64\n",
      "\n",
      "\n",
      " ========================================================================== \n",
      "\n",
      "\n",
      "--------------------------------------------------\n",
      "         Análisis de la celda: 1419\n",
      "--------------------------------------------------\n",
      "\n",
      "Países con los que se interactúa: [0, 1, 7, 20, 27, 30, 31, 32, 33, 34, 36, 39, 40, 41, 43, 44, 45, 46, 47, 48, 49, 52, 53, 55, 57, 61, 62, 63, 66, 82, 86, 90, 91, 92, 94, 98, 212, 213, 216, 220, 221, 229, 244, 254, 256, 351, 352, 353, 355, 357, 358, 359, 370, 371, 372, 373, 375, 376, 380, 381, 385, 386, 387, 389, 420, 421, 503, 593, 852, 880, 961, 966, 971, 996, 1416, 1808, 1819, 1829, 88239]\n",
      "País con el que más se interactúa (además de Italia y llamadas internas): 33\n",
      "Acumulados:\n",
      "_id               1419.000000\n",
      "total_smsin        530.395946\n",
      "total_smsout       229.710593\n",
      "total_callin       428.327276\n",
      "total_callout      464.698276\n",
      "total_internet    5016.234490\n",
      "dtype: float64\n",
      "\n",
      "\n",
      " ========================================================================== \n",
      "\n",
      "\n",
      "--------------------------------------------------\n",
      "         Análisis de la celda: 2436\n",
      "--------------------------------------------------\n",
      "\n",
      "Países con los que se interactúa: [0, 1, 7, 20, 30, 31, 32, 33, 34, 36, 39, 40, 41, 43, 44, 45, 46, 47, 48, 49, 51, 52, 53, 54, 55, 56, 57, 58, 60, 61, 62, 63, 66, 81, 82, 84, 86, 90, 91, 92, 94, 212, 213, 216, 221, 226, 230, 251, 254, 261, 291, 351, 352, 353, 355, 356, 358, 359, 370, 371, 372, 373, 375, 380, 381, 382, 385, 386, 387, 389, 420, 421, 503, 593, 852, 880, 960, 963, 968, 971, 974, 1416, 1514, 1808, 1829, 88239]\n",
      "País con el que más se interactúa (además de Italia y llamadas internas): 33\n",
      "Acumulados:\n",
      "_id                2436.000000\n",
      "total_smsin        2844.990743\n",
      "total_smsout       1782.894877\n",
      "total_callin       2308.122751\n",
      "total_callout      3207.435899\n",
      "total_internet    38375.181471\n",
      "dtype: float64\n",
      "\n",
      "\n",
      " ========================================================================== \n",
      "\n",
      "\n",
      "--------------------------------------------------\n",
      "         Análisis de la celda: 4990\n",
      "--------------------------------------------------\n",
      "\n",
      "Países con los que se interactúa: [0, 1, 7, 20, 27, 30, 31, 32, 33, 34, 36, 39, 40, 41, 43, 44, 45, 46, 47, 48, 49, 51, 52, 53, 54, 55, 56, 57, 58, 60, 61, 62, 63, 65, 66, 81, 82, 84, 86, 90, 91, 92, 93, 94, 98, 211, 212, 213, 216, 218, 221, 223, 225, 226, 228, 229, 230, 231, 233, 234, 236, 237, 241, 242, 243, 249, 250, 254, 255, 256, 257, 258, 261, 262, 264, 351, 352, 353, 354, 355, 356, 357, 358, 359, 370, 371, 372, 373, 374, 375, 377, 380, 381, 382, 385, 386, 387, 389, 420, 421, 502, 503, 504, 507, 591, 593, 598, 852, 880, 886, 961, 962, 964, 965, 966, 967, 968, 971, 972, 973, 974, 994, 995, 1214, 1403, 1416, 1418, 1438, 1450, 1514, 1519, 1587, 1604, 1613, 1647, 1778, 1780, 1905, 1907, 7701, 7705, 7771, 7777, 7778, 88239]\n",
      "País con el que más se interactúa (además de Italia y llamadas internas): 44\n",
      "Acumulados:\n",
      "_id                 4990.000000\n",
      "total_smsin        15035.045725\n",
      "total_smsout        6834.801858\n",
      "total_callin        9611.194039\n",
      "total_callout      11901.054162\n",
      "total_internet    123992.107314\n",
      "dtype: float64\n",
      "\n",
      "\n",
      " ========================================================================== \n",
      "\n",
      "\n",
      "--------------------------------------------------\n",
      "         Análisis de la celda: 945\n",
      "--------------------------------------------------\n",
      "\n",
      "Países con los que se interactúa: [0, 1, 7, 20, 30, 31, 32, 33, 34, 36, 39, 40, 41, 43, 44, 45, 46, 47, 48, 49, 51, 52, 53, 54, 55, 56, 58, 60, 61, 62, 63, 66, 81, 82, 84, 86, 90, 91, 92, 94, 98, 212, 213, 216, 218, 221, 225, 226, 228, 230, 233, 234, 351, 352, 353, 355, 359, 370, 371, 373, 375, 377, 380, 381, 385, 386, 387, 389, 420, 421, 506, 590, 593, 690, 852, 880, 965, 971, 972, 994, 1416, 1647, 1808, 1829, 1849, 7701, 88239]\n",
      "País con el que más se interactúa (además de Italia y llamadas internas): 33\n",
      "Acumulados:\n",
      "_id                 945.000000\n",
      "total_smsin        1705.516010\n",
      "total_smsout       1010.916955\n",
      "total_callin       1201.980322\n",
      "total_callout      1348.251826\n",
      "total_internet    23311.239413\n",
      "dtype: float64\n",
      "\n",
      "\n",
      " ========================================================================== \n",
      "\n",
      "\n",
      "--------------------------------------------------\n",
      "         Análisis de la celda: 5048\n",
      "--------------------------------------------------\n",
      "\n",
      "Países con los que se interactúa: [0, 1, 7, 20, 27, 30, 31, 32, 33, 34, 36, 39, 40, 41, 43, 44, 45, 46, 47, 48, 49, 51, 52, 53, 54, 55, 57, 58, 60, 61, 62, 63, 65, 66, 81, 82, 86, 90, 91, 92, 93, 94, 98, 212, 213, 216, 218, 221, 225, 230, 234, 237, 241, 243, 248, 250, 251, 253, 254, 255, 261, 351, 352, 353, 355, 357, 358, 359, 370, 371, 372, 373, 377, 380, 381, 385, 386, 387, 389, 420, 421, 503, 591, 593, 598, 852, 880, 886, 961, 962, 965, 966, 968, 971, 972, 974, 1204, 1214, 1246, 1416, 1514, 1604, 1647, 1829, 1905, 1907, 7705, 7707, 18096, 18764, 88239]\n",
      "País con el que más se interactúa (además de Italia y llamadas internas): 33\n",
      "Acumulados:\n",
      "_id                 5048.000000\n",
      "total_smsin        30029.934795\n",
      "total_smsout       22762.239429\n",
      "total_callin       20290.734409\n",
      "total_callout      20565.383951\n",
      "total_internet    386280.132139\n",
      "dtype: float64\n",
      "\n",
      "\n",
      " ========================================================================== \n",
      "\n",
      "\n"
     ]
    }
   ],
   "source": [
    "'''\n",
    "4259 (Bocconi)\n",
    "4456 (Navigli)\n",
    "5060 (Duomo)\n",
    "1419 (terreno agricula)\n",
    "2436 (área industrial)\n",
    "4990 (aeropuerto de Linate)\n",
    "945 (residencial aislado)\n",
    "5048 (residencial céntrico)\n",
    "'''\n",
    "\n",
    "# Italia = 39\n",
    "# Llamadas internas = 0\n",
    "excluded_countries = [39, 0]\n",
    "\n",
    "selected_cells = [4259, 4456, 5060, 1419, 2436, 4990, 945, 5048]\n",
    "\n",
    "for cell in selected_cells:\n",
    "    print(\"--------------------------------------------------\")\n",
    "    print(\"         Análisis de la celda:\", cell)\n",
    "    print(\"--------------------------------------------------\\n\")\n",
    "\n",
    "    # CountryCode con los que interactua:\n",
    "    pipeline_interacted_countries = [\n",
    "        {\"$match\": {\"cellid\": cell}},\n",
    "        {\"$group\": {\"_id\": \"$countrycode\"}},\n",
    "        {\"$sort\": SON([(\"_id\", 1)])}\n",
    "    ]\n",
    "\n",
    "    distinct_countries = Milan_CDR_c.aggregate(pipeline_interacted_countries)\n",
    "    distinct_countries = [doc['_id'] for doc in distinct_countries]\n",
    "    print(\"Países con los que se interactúa:\", distinct_countries)\n",
    "\n",
    "    #print(\"\\n\")\n",
    "\n",
    "    # País con el que más se interactúa\n",
    "    # País con el que más se interactúa\n",
    "    pipeline_top_countries = [\n",
    "        {\"$match\": {\"$and\": [{\"countrycode\": {\"$nin\": excluded_countries}}, {\"cellid\": cell}]}},\n",
    "        {\"$group\": {\"_id\": \"$countrycode\", \"count\": {\"$sum\": 1}}},\n",
    "        {\"$sort\": {\"count\": -1}},\n",
    "        {\"$limit\": 1}\n",
    "    ]\n",
    "\n",
    "    top_interacted_country = Milan_CDR_c.aggregate(pipeline_top_countries)\n",
    "    top_interacted_country = list(top_interacted_country)[0]['_id']\n",
    "\n",
    "    print(\"País con el que más se interactúa (además de Italia y llamadas internas):\", top_interacted_country)\n",
    "\n",
    "    #print(\"\\n\")\n",
    "\n",
    "    #Acumulados\n",
    "    pipeline_cell_analysis = [\n",
    "        {\"$match\": {\"cellid\": cell}},\n",
    "        {\"$group\": {\"_id\": \"$cellid\",\n",
    "                    \"total_smsin\": {\"$sum\": \"$smsin\"},\n",
    "                    \"total_smsout\": {\"$sum\": \"$smsout\"},\n",
    "                    \"total_callin\": {\"$sum\": \"$callin\"},\n",
    "                    \"total_callout\": {\"$sum\": \"$callout\"},\n",
    "                    \"total_internet\": {\"$sum\": \"$Internet\"}}}\n",
    "    ]\n",
    "\n",
    "    cell_analysis_result = Milan_CDR_c.aggregate(pipeline_cell_analysis)\n",
    "    cell_analysis_result = list(cell_analysis_result)[0]\n",
    "    print(f\"Acumulados:\")\n",
    "    print(pd.Series(cell_analysis_result))\n",
    "\n",
    "    print(\"\\n\\n ========================================================================== \\n\\n\")"
   ]
  }
 ],
 "metadata": {
  "kernelspec": {
   "display_name": "ADP",
   "language": "python",
   "name": "python3"
  },
  "language_info": {
   "codemirror_mode": {
    "name": "ipython",
    "version": 3
   },
   "file_extension": ".py",
   "mimetype": "text/x-python",
   "name": "python",
   "nbconvert_exporter": "python",
   "pygments_lexer": "ipython3",
   "version": "3.8.18"
  }
 },
 "nbformat": 4,
 "nbformat_minor": 2
}
